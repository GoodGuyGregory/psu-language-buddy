{
  "nbformat": 4,
  "nbformat_minor": 0,
  "metadata": {
    "colab": {
      "provenance": []
    },
    "kernelspec": {
      "name": "python3",
      "display_name": "Python 3"
    },
    "language_info": {
      "name": "python"
    }
  },
  "cells": [
    {
      "cell_type": "code",
      "execution_count": 22,
      "metadata": {
        "collapsed": true,
        "id": "hSL20cLTPswG"
      },
      "outputs": [],
      "source": [
        "# These are all the dependencies\n",
        "# langchain lanchain-openai: for LangChain stuff\n",
        "# request: for REST API calls\n",
        "# mecab-python3 unidic-lite: for dividing Japanese sentences into words\n",
        "# genanki: for creating Anki cards\n",
        "! pip install -q langchain langchain-openai requests mecab-python3 unidic-lite genanki"
      ]
    },
    {
      "cell_type": "code",
      "source": [
        "# All the imports go here\n",
        "from langchain_openai import OpenAI\n",
        "from langchain_core.prompts import PromptTemplate\n",
        "from google.colab import userdata\n",
        "import requests\n",
        "import MeCab\n",
        "import urllib.parse\n",
        "import genanki\n",
        "import pprint"
      ],
      "metadata": {
        "id": "TWh6iiVrRbMI"
      },
      "execution_count": 14,
      "outputs": []
    },
    {
      "cell_type": "code",
      "source": [
        "# Create an llm and prompt template\n",
        "\n",
        "llm = OpenAI(\n",
        "    model=\"gpt-3.5-turbo-instruct\",\n",
        "    temperature=0,\n",
        "    max_retries=2,\n",
        "    api_key=userdata.get('OPENAI_API_KEY'),\n",
        ")\n",
        "\n",
        "prompt =  PromptTemplate.from_template((\n",
        "    \"Translate the following sentece to English: {sentence}\" \"\\n\"\n",
        "    \"Translation = \"\n",
        "))"
      ],
      "metadata": {
        "id": "gllY1MfSf9dx"
      },
      "execution_count": 15,
      "outputs": []
    },
    {
      "cell_type": "code",
      "source": [
        "# Get a Japanese sentence from Tatoeba\n",
        "\n",
        "SENTENCE_ID = 1297\n",
        "TATOEBA_API_URL = \"https://api.dev.tatoeba.org/unstable\"\n",
        "\n",
        "response = requests.get(f\"{TATOEBA_API_URL}/sentences/{SENTENCE_ID}\")\n",
        "\n",
        "if response.status_code == 200:\n",
        "    data = response.json()\n",
        "\n",
        "else:\n",
        "    print(f\"Request failed with status code {response.status_code}\")\n"
      ],
      "metadata": {
        "id": "jToNpjvYUJZW"
      },
      "execution_count": 16,
      "outputs": []
    },
    {
      "cell_type": "code",
      "source": [
        "# Inspect the answer from Tatoeba\n",
        "\n",
        "print(f\"Text: {data['data']['text']}\")\n",
        "print(f\"Language: {data['data']['lang']}\")\n",
        "\n",
        "# There are 2 items in the translations array, why?\n",
        "translations = [translation for translation in data['data']['translations'][0] if translation['lang'] == 'eng']\n",
        "print(f\"Available translations: {len(translations)}\")\n",
        "print(f\"Translations: {translations[0]['text']}\")\n"
      ],
      "metadata": {
        "colab": {
          "base_uri": "https://localhost:8080/"
        },
        "id": "isSWYsI8U_Ci",
        "outputId": "1867a526-badd-4b16-fe24-31dca679bdf5"
      },
      "execution_count": 17,
      "outputs": [
        {
          "output_type": "stream",
          "name": "stdout",
          "text": [
            "Text: きみにちょっとしたものをもってきたよ。\n",
            "Language: jpn\n",
            "Available translations: 1\n",
            "Translations: I brought you a little something.\n"
          ]
        }
      ]
    },
    {
      "cell_type": "code",
      "source": [
        "# Translate the sentence\n",
        "\n",
        "llm.invoke(prompt.format(sentence=data['data']['text']))"
      ],
      "metadata": {
        "colab": {
          "base_uri": "https://localhost:8080/",
          "height": 35
        },
        "id": "j25x0NBYRnts",
        "outputId": "4c6de492-1efa-4d3a-de39-6ff23f572862"
      },
      "execution_count": 18,
      "outputs": [
        {
          "output_type": "execute_result",
          "data": {
            "text/plain": [
              "'I brought something small for you.'"
            ],
            "application/vnd.google.colaboratory.intrinsic+json": {
              "type": "string"
            }
          },
          "metadata": {},
          "execution_count": 18
        }
      ]
    },
    {
      "cell_type": "code",
      "source": [
        "# Divide the sentence into words\n",
        "wakati = MeCab.Tagger(\"-Owakati\")\n",
        "words = wakati.parse(data['data']['text']).split()\n",
        "print(words)"
      ],
      "metadata": {
        "colab": {
          "base_uri": "https://localhost:8080/"
        },
        "id": "KZqUeViSYuJW",
        "outputId": "8bf78870-7db1-47a8-e754-e2b72cc33d59"
      },
      "execution_count": 19,
      "outputs": [
        {
          "output_type": "stream",
          "name": "stdout",
          "text": [
            "['きみ', 'に', 'ちょっと', 'し', 'た', 'もの', 'を', 'もっ', 'て', 'き', 'た', 'よ', '。']\n"
          ]
        }
      ]
    },
    {
      "cell_type": "code",
      "source": [
        "# Get the JLPT Classification for the words\n",
        "JLPT_API_URL = \"https://jlpt-vocab-api.vercel.app\"\n",
        "\n",
        "jlpt_classifications = []\n",
        "\n",
        "for word in words:\n",
        "  response = requests.get(f\"{JLPT_API_URL}/api/words?word={urllib.parse.quote(word)}\")\n",
        "\n",
        "  if response.status_code == 200:\n",
        "      jlpt_classifications.append(response.json())\n",
        "      print(jlpt_classifications[-1])\n",
        "  else:\n",
        "      print(f\"Request failed with status code {response.status_code}\")"
      ],
      "metadata": {
        "colab": {
          "base_uri": "https://localhost:8080/"
        },
        "id": "IcNF-F_7pptD",
        "outputId": "abb3387b-26d5-4e5d-ab3a-785503e07b0f"
      },
      "execution_count": 20,
      "outputs": [
        {
          "output_type": "stream",
          "name": "stdout",
          "text": [
            "{'total': 0, 'offset': 0, 'limit': 10, 'words': []}\n",
            "{'total': 0, 'offset': 0, 'limit': 10, 'words': []}\n",
            "{'total': 1, 'offset': 0, 'limit': 10, 'words': [{'word': 'ちょっと', 'meaning': 'somewhat', 'furigana': '', 'romaji': 'chotto', 'level': 5}]}\n",
            "{'total': 1, 'offset': 0, 'limit': 10, 'words': [{'word': 'し', 'meaning': '10^24 (kanji is JIS X 0212 kuten 4906); septillion (American); quadrillion (British)', 'furigana': '', 'romaji': 'shi', 'level': 1}]}\n",
            "{'total': 0, 'offset': 0, 'limit': 10, 'words': []}\n",
            "{'total': 0, 'offset': 0, 'limit': 10, 'words': []}\n",
            "{'total': 0, 'offset': 0, 'limit': 10, 'words': []}\n",
            "{'total': 0, 'offset': 0, 'limit': 10, 'words': []}\n",
            "{'total': 0, 'offset': 0, 'limit': 10, 'words': []}\n",
            "{'total': 0, 'offset': 0, 'limit': 10, 'words': []}\n",
            "{'total': 0, 'offset': 0, 'limit': 10, 'words': []}\n",
            "{'total': 0, 'offset': 0, 'limit': 10, 'words': []}\n",
            "{'total': 0, 'offset': 0, 'limit': 10, 'words': []}\n"
          ]
        }
      ]
    },
    {
      "cell_type": "code",
      "source": [
        "# Generate Anki cards for the words\n",
        "\n",
        "my_model = genanki.Model(\n",
        "  1607392319,\n",
        "  'Simple Model',\n",
        "  fields=[\n",
        "    {'name': 'Question'},\n",
        "    {'name': 'Answer'},\n",
        "  ],\n",
        "  templates=[\n",
        "    {\n",
        "      'name': 'Card 1',\n",
        "      'qfmt': '{{Question}}',\n",
        "      'afmt': '{{FrontSide}}<hr id=\"answer\">{{Answer}}',\n",
        "    },\n",
        "  ])\n",
        "\n",
        "my_deck = genanki.Deck(\n",
        "  2059400110,\n",
        "  'Japanese Words'\n",
        ")\n",
        "\n",
        "for classification in jlpt_classifications:\n",
        "  if classification['total'] > 0:\n",
        "\n",
        "    my_note = genanki.Note(\n",
        "      model=my_model,\n",
        "      fields=[classification['words'][0]['word'], classification['words'][0]['meaning']]\n",
        "    )\n",
        "\n",
        "    pprint.pp(my_note)\n",
        "\n",
        "    my_deck.add_note(my_note)\n",
        "\n",
        "genanki.Package(my_deck).write_to_file('output.apkg')"
      ],
      "metadata": {
        "colab": {
          "base_uri": "https://localhost:8080/"
        },
        "id": "S1IE0E4wcyAR",
        "outputId": "0677e9e2-2cef-4df3-95e6-e33eedf4fcdc"
      },
      "execution_count": 21,
      "outputs": [
        {
          "output_type": "stream",
          "name": "stdout",
          "text": [
            "Note(model=Model(model_id=1607392319, name='Simple Model', fields=[{'name': 'Question'}, {'name': 'Answer'}], templates=[{'name': 'Card 1', 'qfmt': '{{Question}}', 'afmt': '{{FrontSide}}<hr id=\"answer\">{{Answer}}'}], css='', model_type=0), fields=['ちょっと', 'somewhat'], sort_field='ちょっと', tags=_TagList([]), guid='Bh7bZ}W(V]')\n",
            "Note(model=Model(model_id=1607392319, name='Simple Model', fields=[{'name': 'Question'}, {'name': 'Answer'}], templates=[{'name': 'Card 1', 'qfmt': '{{Question}}', 'afmt': '{{FrontSide}}<hr id=\"answer\">{{Answer}}'}], css='', model_type=0), fields=['し', '10^24 (kanji is JIS X 0212 kuten 4906); septillion (American); quadrillion (British)'], sort_field='し', tags=_TagList([]), guid='b2UTAu0K!?')\n"
          ]
        }
      ]
    }
  ]
}