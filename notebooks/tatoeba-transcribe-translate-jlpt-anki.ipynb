{
  "nbformat": 4,
  "nbformat_minor": 0,
  "metadata": {
    "colab": {
      "provenance": []
    },
    "kernelspec": {
      "name": "python3",
      "display_name": "Python 3"
    },
    "language_info": {
      "name": "python"
    }
  },
  "cells": [
    {
      "cell_type": "code",
      "execution_count": 1,
      "metadata": {
        "collapsed": true,
        "id": "hSL20cLTPswG",
        "colab": {
          "base_uri": "https://localhost:8080/"
        },
        "outputId": "9163fccb-f906-4161-ff61-d73edfbbc47a"
      },
      "outputs": [
        {
          "output_type": "stream",
          "name": "stdout",
          "text": [
            "\u001b[K\u001b[?25h\n",
            "up to date, audited 23 packages in 1s\n",
            "\n",
            "3 packages are looking for funding\n",
            "  run `npm fund` for details\n",
            "\n",
            "2 \u001b[33m\u001b[1mmoderate\u001b[22m\u001b[39m severity vulnerabilities\n",
            "\n",
            "To address all issues (including breaking changes), run:\n",
            "  npm audit fix --force\n",
            "\n",
            "Run `npm audit` for details.\n"
          ]
        }
      ],
      "source": [
        "# These are all the dependencies\n",
        "# langchain lanchain-openai: for LangChain stuff\n",
        "# request: for REST API calls\n",
        "# mecab-python3 unidic-lite: for dividing Japanese sentences into words\n",
        "# genanki: for creating Anki cards\n",
        "# openai: for whispers transcriptions\n",
        "# streamlit: for ui\n",
        "# audio-recorder-streamlit: for audio recording\n",
        "! pip install -q langchain langchain-openai requests mecab-python3 unidic-lite genanki openai streamlit audio-recorder-streamlit\n",
        "\n",
        "# This is required to serve the streamlit app in collab only\n",
        "! npm install localtunnel"
      ]
    },
    {
      "cell_type": "code",
      "source": [
        "# All the imports go here\n",
        "\n",
        "from langchain_openai import OpenAI\n",
        "from langchain_core.prompts import PromptTemplate\n",
        "from google.colab import userdata\n",
        "import requests\n",
        "import MeCab\n",
        "import urllib.parse\n",
        "import genanki\n",
        "import pprint\n",
        "from openai import OpenAI as OpenAIClient"
      ],
      "metadata": {
        "id": "TWh6iiVrRbMI"
      },
      "execution_count": 2,
      "outputs": []
    },
    {
      "cell_type": "code",
      "source": [
        "# UI with Audio Recording\n",
        "\n",
        "%%writefile app.py\n",
        "\n",
        "import streamlit as st\n",
        "from audio_recorder_streamlit import audio_recorder\n",
        "\n",
        "st.title('PSU Language Buddy')\n",
        "\n",
        "st.header(\"Record Audio\", divider=True)\n",
        "\n",
        "audio_bytes = audio_recorder()\n",
        "if audio_bytes:\n",
        "    st.audio(audio_bytes, format=\"audio/wav\")"
      ],
      "metadata": {
        "colab": {
          "base_uri": "https://localhost:8080/"
        },
        "id": "vw9x9I5utaCd",
        "outputId": "19c5c480-7a1b-45b8-8110-12b9a7690abe"
      },
      "execution_count": 3,
      "outputs": [
        {
          "output_type": "stream",
          "name": "stdout",
          "text": [
            "Overwriting app.py\n"
          ]
        }
      ]
    },
    {
      "cell_type": "code",
      "source": [
        "# Run the Streamlit app and expose it\n",
        "\n",
        "! streamlit run app.py &> logs.txt &\n",
        "print(f\"password is: {requests.get('https://loca.lt/mytunnelpassword').text}\")\n",
        "! npx localtunnel --port 8501\n"
      ],
      "metadata": {
        "colab": {
          "base_uri": "https://localhost:8080/"
        },
        "id": "IHaJxjF2tgvf",
        "outputId": "dac5c8b1-3457-49f1-b420-3f359504dfdc"
      },
      "execution_count": 4,
      "outputs": [
        {
          "output_type": "stream",
          "name": "stdout",
          "text": [
            "password is: 34.125.10.43\n",
            "your url is: https://sixty-queens-walk.loca.lt\n",
            "^C\n"
          ]
        }
      ]
    },
    {
      "cell_type": "code",
      "source": [
        "# Get a Japanese sentence from Tatoeba\n",
        "\n",
        "SENTENCE_ID = 4704\n",
        "TATOEBA_API_URL = \"https://api.dev.tatoeba.org/unstable\"\n",
        "\n",
        "response = requests.get(f\"{TATOEBA_API_URL}/sentences/{SENTENCE_ID}\")\n",
        "\n",
        "if response.status_code == 200:\n",
        "    data = response.json()\n",
        "else:\n",
        "    print(f\"Request failed with status code {response.status_code}\")\n"
      ],
      "metadata": {
        "id": "jToNpjvYUJZW"
      },
      "execution_count": 5,
      "outputs": []
    },
    {
      "cell_type": "code",
      "source": [
        "# Inspect the answer from Tatoeba\n",
        "\n",
        "print(f\"Text: {data['data']['text']}\")\n",
        "print(f\"Language: {data['data']['lang']}\")\n",
        "\n",
        "# There are 2 items in the translations array, why?\n",
        "translations = [translation for translation in data['data']['translations'][0] if translation['lang'] == 'eng']\n",
        "print(f\"Available translations: {len(translations)}\")\n",
        "print(f\"Translations: {translations[0]['text']}\")\n",
        "\n",
        "# This one has an audio file, download it\n",
        "audio_file = requests.get(data['data']['audios'][0]['download_url'], allow_redirects=True)\n",
        "open('audio.mp3', 'wb').write(audio_file.content)\n"
      ],
      "metadata": {
        "colab": {
          "base_uri": "https://localhost:8080/"
        },
        "id": "isSWYsI8U_Ci",
        "outputId": "f9c53c06-16fa-4008-abed-5be80efedfa2"
      },
      "execution_count": 6,
      "outputs": [
        {
          "output_type": "stream",
          "name": "stdout",
          "text": [
            "Text: 何してるの？\n",
            "Language: jpn\n",
            "Available translations: 2\n",
            "Translations: What are you doing?\n"
          ]
        },
        {
          "output_type": "execute_result",
          "data": {
            "text/plain": [
              "10007"
            ]
          },
          "metadata": {},
          "execution_count": 6
        }
      ]
    },
    {
      "cell_type": "code",
      "source": [
        "# Transcribe the Audio File with Whispers\n",
        "\n",
        "client = OpenAIClient(api_key=userdata.get('OPENAI_API_KEY'))\n",
        "\n",
        "audio_file= open(\"audio.mp3\", \"rb\")\n",
        "transcription = client.audio.transcriptions.create(\n",
        "  model=\"whisper-1\",\n",
        "  file=audio_file\n",
        ")\n",
        "print(transcription.text)"
      ],
      "metadata": {
        "colab": {
          "base_uri": "https://localhost:8080/"
        },
        "id": "qBgCPD6LlnIz",
        "outputId": "b33facdf-7111-4609-ed34-d39e3800142d"
      },
      "execution_count": 7,
      "outputs": [
        {
          "output_type": "stream",
          "name": "stdout",
          "text": [
            "何してるの?\n"
          ]
        }
      ]
    },
    {
      "cell_type": "code",
      "source": [
        "# Create an llm and prompt template\n",
        "\n",
        "llm = OpenAI(\n",
        "    model=\"gpt-3.5-turbo-instruct\",\n",
        "    temperature=0,\n",
        "    max_retries=2,\n",
        "    api_key=userdata.get('OPENAI_API_KEY'),\n",
        ")\n",
        "\n",
        "prompt =  PromptTemplate.from_template((\n",
        "    \"Translate the following sentece to English: {sentence}\" \"\\n\"\n",
        "    \"Translation = \"\n",
        "))"
      ],
      "metadata": {
        "id": "gllY1MfSf9dx"
      },
      "execution_count": 8,
      "outputs": []
    },
    {
      "cell_type": "code",
      "source": [
        "# Translate the sentence\n",
        "\n",
        "llm.invoke(prompt.format(sentence=data['data']['text']))"
      ],
      "metadata": {
        "colab": {
          "base_uri": "https://localhost:8080/",
          "height": 35
        },
        "id": "j25x0NBYRnts",
        "outputId": "3882adb0-3808-4ec9-fc6a-b0e912674184"
      },
      "execution_count": 9,
      "outputs": [
        {
          "output_type": "execute_result",
          "data": {
            "text/plain": [
              "'What are you doing?'"
            ],
            "application/vnd.google.colaboratory.intrinsic+json": {
              "type": "string"
            }
          },
          "metadata": {},
          "execution_count": 9
        }
      ]
    },
    {
      "cell_type": "code",
      "source": [
        "# Divide the sentence into words\n",
        "wakati = MeCab.Tagger(\"-Owakati\")\n",
        "words = wakati.parse(data['data']['text']).split()\n",
        "print(words)"
      ],
      "metadata": {
        "colab": {
          "base_uri": "https://localhost:8080/"
        },
        "id": "KZqUeViSYuJW",
        "outputId": "d98570b0-5512-4d24-a9e6-1b36c9ffa75c"
      },
      "execution_count": 10,
      "outputs": [
        {
          "output_type": "stream",
          "name": "stdout",
          "text": [
            "['何', 'し', 'てる', 'の', '？']\n"
          ]
        }
      ]
    },
    {
      "cell_type": "code",
      "source": [
        "# Get the JLPT Classification for the words\n",
        "JLPT_API_URL = \"https://jlpt-vocab-api.vercel.app\"\n",
        "\n",
        "jlpt_classifications = []\n",
        "\n",
        "for word in words:\n",
        "  response = requests.get(f\"{JLPT_API_URL}/api/words?word={urllib.parse.quote(word)}\")\n",
        "\n",
        "  if response.status_code == 200:\n",
        "      jlpt_classifications.append(response.json())\n",
        "      print(jlpt_classifications[-1])\n",
        "  else:\n",
        "      print(f\"Request failed with status code {response.status_code}\")"
      ],
      "metadata": {
        "colab": {
          "base_uri": "https://localhost:8080/"
        },
        "id": "IcNF-F_7pptD",
        "outputId": "2af4fb3f-75f0-4bb5-892b-a26a0052415e"
      },
      "execution_count": 11,
      "outputs": [
        {
          "output_type": "stream",
          "name": "stdout",
          "text": [
            "{'total': 2, 'offset': 0, 'limit': 10, 'words': [{'word': '何', 'meaning': 'what', 'furigana': 'なん / なに', 'romaji': 'nan / nani', 'level': 5}, {'word': '何', 'meaning': 'what', 'furigana': 'なに', 'romaji': 'nani', 'level': 3}]}\n",
            "{'total': 1, 'offset': 0, 'limit': 10, 'words': [{'word': 'し', 'meaning': '10^24 (kanji is JIS X 0212 kuten 4906); septillion (American); quadrillion (British)', 'furigana': '', 'romaji': 'shi', 'level': 1}]}\n",
            "{'total': 0, 'offset': 0, 'limit': 10, 'words': []}\n",
            "{'total': 0, 'offset': 0, 'limit': 10, 'words': []}\n",
            "{'total': 0, 'offset': 0, 'limit': 10, 'words': []}\n"
          ]
        }
      ]
    },
    {
      "cell_type": "code",
      "source": [
        "# Generate Anki cards for the words\n",
        "\n",
        "my_model = genanki.Model(\n",
        "  1607392319,\n",
        "  'Simple Model',\n",
        "  fields=[\n",
        "    {'name': 'Question'},\n",
        "    {'name': 'Answer'},\n",
        "  ],\n",
        "  templates=[\n",
        "    {\n",
        "      'name': 'Card 1',\n",
        "      'qfmt': '{{Question}}',\n",
        "      'afmt': '{{FrontSide}}<hr id=\"answer\">{{Answer}}',\n",
        "    },\n",
        "  ])\n",
        "\n",
        "my_deck = genanki.Deck(\n",
        "  2059400110,\n",
        "  'Japanese Words'\n",
        ")\n",
        "\n",
        "for classification in jlpt_classifications:\n",
        "  if classification['total'] > 0:\n",
        "\n",
        "    my_note = genanki.Note(\n",
        "      model=my_model,\n",
        "      fields=[classification['words'][0]['word'], classification['words'][0]['meaning']]\n",
        "    )\n",
        "\n",
        "    pprint.pp(my_note)\n",
        "\n",
        "    my_deck.add_note(my_note)\n",
        "\n",
        "genanki.Package(my_deck).write_to_file('output.apkg')"
      ],
      "metadata": {
        "colab": {
          "base_uri": "https://localhost:8080/"
        },
        "id": "S1IE0E4wcyAR",
        "outputId": "5a9a0285-9075-401b-ec56-1b40d01cf32a"
      },
      "execution_count": 12,
      "outputs": [
        {
          "output_type": "stream",
          "name": "stdout",
          "text": [
            "Note(model=Model(model_id=1607392319, name='Simple Model', fields=[{'name': 'Question'}, {'name': 'Answer'}], templates=[{'name': 'Card 1', 'qfmt': '{{Question}}', 'afmt': '{{FrontSide}}<hr id=\"answer\">{{Answer}}'}], css='', model_type=0), fields=['何', 'what'], sort_field='何', tags=_TagList([]), guid='FAJ#SAa)+@')\n",
            "Note(model=Model(model_id=1607392319, name='Simple Model', fields=[{'name': 'Question'}, {'name': 'Answer'}], templates=[{'name': 'Card 1', 'qfmt': '{{Question}}', 'afmt': '{{FrontSide}}<hr id=\"answer\">{{Answer}}'}], css='', model_type=0), fields=['し', '10^24 (kanji is JIS X 0212 kuten 4906); septillion (American); quadrillion (British)'], sort_field='し', tags=_TagList([]), guid='b2UTAu0K!?')\n"
          ]
        }
      ]
    }
  ]
}