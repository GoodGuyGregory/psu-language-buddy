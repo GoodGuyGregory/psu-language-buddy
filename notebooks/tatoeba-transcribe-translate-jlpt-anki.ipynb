{
  "nbformat": 4,
  "nbformat_minor": 0,
  "metadata": {
    "colab": {
      "provenance": []
    },
    "kernelspec": {
      "name": "python3",
      "display_name": "Python 3"
    },
    "language_info": {
      "name": "python"
    }
  },
  "cells": [
    {
      "cell_type": "code",
      "execution_count": 18,
      "metadata": {
        "collapsed": true,
        "id": "hSL20cLTPswG"
      },
      "outputs": [],
      "source": [
        "# These are all the dependencies\n",
        "# langchain lanchain-openai: for LangChain stuff\n",
        "# request: for REST API calls\n",
        "# mecab-python3 unidic-lite: for dividing Japanese sentences into words\n",
        "# genanki: for creating Anki cards\n",
        "! pip install -q langchain langchain-openai requests mecab-python3 unidic-lite genanki openai"
      ]
    },
    {
      "cell_type": "code",
      "source": [
        "# All the imports go here\n",
        "from langchain_openai import OpenAI\n",
        "from langchain_core.prompts import PromptTemplate\n",
        "from google.colab import userdata\n",
        "import requests\n",
        "import MeCab\n",
        "import urllib.parse\n",
        "import genanki\n",
        "import pprint\n",
        "from openai import OpenAI as OpenAIClient"
      ],
      "metadata": {
        "id": "TWh6iiVrRbMI"
      },
      "execution_count": 19,
      "outputs": []
    },
    {
      "cell_type": "code",
      "source": [
        "# Get a Japanese sentence from Tatoeba\n",
        "\n",
        "SENTENCE_ID = 4704\n",
        "TATOEBA_API_URL = \"https://api.dev.tatoeba.org/unstable\"\n",
        "\n",
        "response = requests.get(f\"{TATOEBA_API_URL}/sentences/{SENTENCE_ID}\")\n",
        "\n",
        "if response.status_code == 200:\n",
        "    data = response.json()\n",
        "else:\n",
        "    print(f\"Request failed with status code {response.status_code}\")\n"
      ],
      "metadata": {
        "id": "jToNpjvYUJZW"
      },
      "execution_count": 20,
      "outputs": []
    },
    {
      "cell_type": "code",
      "source": [
        "# Inspect the answer from Tatoeba\n",
        "\n",
        "print(f\"Text: {data['data']['text']}\")\n",
        "print(f\"Language: {data['data']['lang']}\")\n",
        "\n",
        "# There are 2 items in the translations array, why?\n",
        "translations = [translation for translation in data['data']['translations'][0] if translation['lang'] == 'eng']\n",
        "print(f\"Available translations: {len(translations)}\")\n",
        "print(f\"Translations: {translations[0]['text']}\")\n",
        "\n",
        "# This one has an audio file, download it\n",
        "audio_file = requests.get(data['data']['audios'][0]['download_url'], allow_redirects=True)\n",
        "open('audio.mp3', 'wb').write(audio_file.content)\n"
      ],
      "metadata": {
        "colab": {
          "base_uri": "https://localhost:8080/"
        },
        "id": "isSWYsI8U_Ci",
        "outputId": "cd09d9c2-5f29-4759-836c-cd54b6c3088e"
      },
      "execution_count": 21,
      "outputs": [
        {
          "output_type": "stream",
          "name": "stdout",
          "text": [
            "Text: 何してるの？\n",
            "Language: jpn\n",
            "Available translations: 2\n",
            "Translations: What are you doing?\n"
          ]
        },
        {
          "output_type": "execute_result",
          "data": {
            "text/plain": [
              "10007"
            ]
          },
          "metadata": {},
          "execution_count": 21
        }
      ]
    },
    {
      "cell_type": "code",
      "source": [
        "# Transcribe the Audio File with Whispers\n",
        "\n",
        "client = OpenAIClient(api_key=userdata.get('OPENAI_API_KEY'))\n",
        "\n",
        "audio_file= open(\"audio.mp3\", \"rb\")\n",
        "transcription = client.audio.transcriptions.create(\n",
        "  model=\"whisper-1\",\n",
        "  file=audio_file\n",
        ")\n",
        "print(transcription.text)"
      ],
      "metadata": {
        "colab": {
          "base_uri": "https://localhost:8080/"
        },
        "id": "qBgCPD6LlnIz",
        "outputId": "9b99bb5e-15af-482b-c738-a2a9e551546c"
      },
      "execution_count": 22,
      "outputs": [
        {
          "output_type": "stream",
          "name": "stdout",
          "text": [
            "何してるの?\n"
          ]
        }
      ]
    },
    {
      "cell_type": "code",
      "source": [
        "# Create an llm and prompt template\n",
        "\n",
        "llm = OpenAI(\n",
        "    model=\"gpt-3.5-turbo-instruct\",\n",
        "    temperature=0,\n",
        "    max_retries=2,\n",
        "    api_key=userdata.get('OPENAI_API_KEY'),\n",
        ")\n",
        "\n",
        "prompt =  PromptTemplate.from_template((\n",
        "    \"Translate the following sentece to English: {sentence}\" \"\\n\"\n",
        "    \"Translation = \"\n",
        "))"
      ],
      "metadata": {
        "id": "gllY1MfSf9dx"
      },
      "execution_count": 23,
      "outputs": []
    },
    {
      "cell_type": "code",
      "source": [
        "# Translate the sentence\n",
        "\n",
        "llm.invoke(prompt.format(sentence=data['data']['text']))"
      ],
      "metadata": {
        "colab": {
          "base_uri": "https://localhost:8080/",
          "height": 35
        },
        "id": "j25x0NBYRnts",
        "outputId": "225616a1-2752-4831-de5b-79faae4b51bb"
      },
      "execution_count": 24,
      "outputs": [
        {
          "output_type": "execute_result",
          "data": {
            "text/plain": [
              "'What are you doing?'"
            ],
            "application/vnd.google.colaboratory.intrinsic+json": {
              "type": "string"
            }
          },
          "metadata": {},
          "execution_count": 24
        }
      ]
    },
    {
      "cell_type": "code",
      "source": [
        "# Divide the sentence into words\n",
        "wakati = MeCab.Tagger(\"-Owakati\")\n",
        "words = wakati.parse(data['data']['text']).split()\n",
        "print(words)"
      ],
      "metadata": {
        "colab": {
          "base_uri": "https://localhost:8080/"
        },
        "id": "KZqUeViSYuJW",
        "outputId": "cd107a0b-f9b4-4092-baab-70a0b414b042"
      },
      "execution_count": 25,
      "outputs": [
        {
          "output_type": "stream",
          "name": "stdout",
          "text": [
            "['何', 'し', 'てる', 'の', '？']\n"
          ]
        }
      ]
    },
    {
      "cell_type": "code",
      "source": [
        "# Get the JLPT Classification for the words\n",
        "JLPT_API_URL = \"https://jlpt-vocab-api.vercel.app\"\n",
        "\n",
        "jlpt_classifications = []\n",
        "\n",
        "for word in words:\n",
        "  response = requests.get(f\"{JLPT_API_URL}/api/words?word={urllib.parse.quote(word)}\")\n",
        "\n",
        "  if response.status_code == 200:\n",
        "      jlpt_classifications.append(response.json())\n",
        "      print(jlpt_classifications[-1])\n",
        "  else:\n",
        "      print(f\"Request failed with status code {response.status_code}\")"
      ],
      "metadata": {
        "colab": {
          "base_uri": "https://localhost:8080/"
        },
        "id": "IcNF-F_7pptD",
        "outputId": "c921b4ba-d936-48b7-cfcf-da8940862468"
      },
      "execution_count": 26,
      "outputs": [
        {
          "output_type": "stream",
          "name": "stdout",
          "text": [
            "{'total': 2, 'offset': 0, 'limit': 10, 'words': [{'word': '何', 'meaning': 'what', 'furigana': 'なん / なに', 'romaji': 'nan / nani', 'level': 5}, {'word': '何', 'meaning': 'what', 'furigana': 'なに', 'romaji': 'nani', 'level': 3}]}\n",
            "{'total': 1, 'offset': 0, 'limit': 10, 'words': [{'word': 'し', 'meaning': '10^24 (kanji is JIS X 0212 kuten 4906); septillion (American); quadrillion (British)', 'furigana': '', 'romaji': 'shi', 'level': 1}]}\n",
            "{'total': 0, 'offset': 0, 'limit': 10, 'words': []}\n",
            "{'total': 0, 'offset': 0, 'limit': 10, 'words': []}\n",
            "{'total': 0, 'offset': 0, 'limit': 10, 'words': []}\n"
          ]
        }
      ]
    },
    {
      "cell_type": "code",
      "source": [
        "# Generate Anki cards for the words\n",
        "\n",
        "my_model = genanki.Model(\n",
        "  1607392319,\n",
        "  'Simple Model',\n",
        "  fields=[\n",
        "    {'name': 'Question'},\n",
        "    {'name': 'Answer'},\n",
        "  ],\n",
        "  templates=[\n",
        "    {\n",
        "      'name': 'Card 1',\n",
        "      'qfmt': '{{Question}}',\n",
        "      'afmt': '{{FrontSide}}<hr id=\"answer\">{{Answer}}',\n",
        "    },\n",
        "  ])\n",
        "\n",
        "my_deck = genanki.Deck(\n",
        "  2059400110,\n",
        "  'Japanese Words'\n",
        ")\n",
        "\n",
        "for classification in jlpt_classifications:\n",
        "  if classification['total'] > 0:\n",
        "\n",
        "    my_note = genanki.Note(\n",
        "      model=my_model,\n",
        "      fields=[classification['words'][0]['word'], classification['words'][0]['meaning']]\n",
        "    )\n",
        "\n",
        "    pprint.pp(my_note)\n",
        "\n",
        "    my_deck.add_note(my_note)\n",
        "\n",
        "genanki.Package(my_deck).write_to_file('output.apkg')"
      ],
      "metadata": {
        "colab": {
          "base_uri": "https://localhost:8080/"
        },
        "id": "S1IE0E4wcyAR",
        "outputId": "0f22cd75-34b2-4018-a42e-4e1e0fe3a6ed"
      },
      "execution_count": 27,
      "outputs": [
        {
          "output_type": "stream",
          "name": "stdout",
          "text": [
            "Note(model=Model(model_id=1607392319, name='Simple Model', fields=[{'name': 'Question'}, {'name': 'Answer'}], templates=[{'name': 'Card 1', 'qfmt': '{{Question}}', 'afmt': '{{FrontSide}}<hr id=\"answer\">{{Answer}}'}], css='', model_type=0), fields=['何', 'what'], sort_field='何', tags=_TagList([]), guid='FAJ#SAa)+@')\n",
            "Note(model=Model(model_id=1607392319, name='Simple Model', fields=[{'name': 'Question'}, {'name': 'Answer'}], templates=[{'name': 'Card 1', 'qfmt': '{{Question}}', 'afmt': '{{FrontSide}}<hr id=\"answer\">{{Answer}}'}], css='', model_type=0), fields=['し', '10^24 (kanji is JIS X 0212 kuten 4906); septillion (American); quadrillion (British)'], sort_field='し', tags=_TagList([]), guid='b2UTAu0K!?')\n"
          ]
        }
      ]
    }
  ]
}